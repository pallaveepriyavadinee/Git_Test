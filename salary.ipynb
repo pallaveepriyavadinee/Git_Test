{
  "cells": [
    {
      "cell_type": "code",
      "source": [
        "import datetime\r\n",
        "import numpy as np\r\n",
        "import pandas as pd\r\n",
        "from sklearn.model_selection import train_test_split\r\n",
        "from sklearn.linear_model import LinearRegression\r\n",
        "import joblib"
      ],
      "outputs": [],
      "execution_count": 32,
      "metadata": {
        "gather": {
          "logged": 1651529412193
        }
      }
    },
    {
      "cell_type": "code",
      "source": [
        "#Import Azure ML SDK modules\r\n",
        "import azureml.core\r\n",
        "from azureml.core import Workspace\r\n",
        "from azureml.core.model import Model\r\n",
        "from azureml.core import Experiment\r\n",
        "from azureml.core.webservice import Webservice\r\n",
        "from azureml.core.image import ContainerImage\r\n",
        "from azureml.core.webservice import AciWebservice\r\n",
        "from azureml.core.conda_dependencies import CondaDependencies"
      ],
      "outputs": [],
      "execution_count": 33,
      "metadata": {
        "jupyter": {
          "source_hidden": false,
          "outputs_hidden": false
        },
        "nteract": {
          "transient": {
            "deleting": false
          }
        },
        "gather": {
          "logged": 1651529415201
        }
      }
    },
    {
      "cell_type": "code",
      "source": [
        "from azureml.core import Workspace\r\n",
        "ws = Workspace.from_config()\r\n",
        "print(ws)\r\n"
      ],
      "outputs": [
        {
          "output_type": "stream",
          "name": "stdout",
          "text": "Workspace.create(name='sandbox_ml_service_workspace', subscription_id='72d4c1b3-fd6e-432a-b18a-89eec2c10a6b', resource_group='pep-gdaentml-cus-01-rg')\n"
        }
      ],
      "execution_count": 34,
      "metadata": {
        "jupyter": {
          "source_hidden": false,
          "outputs_hidden": false
        },
        "nteract": {
          "transient": {
            "deleting": false
          }
        },
        "gather": {
          "logged": 1651529418650
        }
      }
    },
    {
      "cell_type": "code",
      "source": [
        "#creating experiment\r\n",
        "exp = Experiment(workspace=ws, name='salary_exp_azureml')"
      ],
      "outputs": [],
      "execution_count": 35,
      "metadata": {
        "jupyter": {
          "source_hidden": false,
          "outputs_hidden": false
        },
        "nteract": {
          "transient": {
            "deleting": false
          }
        },
        "gather": {
          "logged": 1651529421600
        }
      }
    },
    {
      "cell_type": "code",
      "source": [
        "#we will start logging matrics\r\n",
        "run = exp.start_logging()                   \r\n",
        "run.log(\"Experiment start time\", str(datetime.datetime.now()))"
      ],
      "outputs": [],
      "execution_count": 36,
      "metadata": {
        "jupyter": {
          "source_hidden": false,
          "outputs_hidden": false
        },
        "nteract": {
          "transient": {
            "deleting": false
          }
        },
        "gather": {
          "logged": 1651529427787
        }
      }
    },
    {
      "cell_type": "code",
      "source": [
        "#load , split and train the model\r\n",
        "sal = pd.read_csv('data/sal.csv',header=0, index_col=None)\r\n",
        "X = sal[['x']]\r\n",
        "y = sal['y']\r\n",
        "#spliting\r\n",
        "x_train, x_test, y_train, y_test = train_test_split(X, y, test_size=0.25, random_state=10)\r\n",
        "\r\n",
        "#train the model\r\n",
        "lm = LinearRegression() \r\n",
        "lm.fit(x_train,y_train)"
      ],
      "outputs": [
        {
          "output_type": "execute_result",
          "execution_count": 37,
          "data": {
            "text/plain": "LinearRegression(copy_X=True, fit_intercept=True, n_jobs=None, normalize=False)"
          },
          "metadata": {}
        }
      ],
      "execution_count": 37,
      "metadata": {
        "jupyter": {
          "source_hidden": false,
          "outputs_hidden": false
        },
        "nteract": {
          "transient": {
            "deleting": false
          }
        },
        "gather": {
          "logged": 1651529436333
        }
      }
    },
    {
      "cell_type": "code",
      "source": [
        "#Freeze the model\r\n",
        "filename = 'outputs/sal_model.pkl'\r\n",
        "joblib.dump(lm, filename)"
      ],
      "outputs": [
        {
          "output_type": "execute_result",
          "execution_count": 38,
          "data": {
            "text/plain": "['outputs/sal_model.pkl']"
          },
          "metadata": {}
        }
      ],
      "execution_count": 38,
      "metadata": {
        "jupyter": {
          "source_hidden": false,
          "outputs_hidden": false
        },
        "nteract": {
          "transient": {
            "deleting": false
          }
        },
        "gather": {
          "logged": 1651529440348
        }
      }
    },
    {
      "cell_type": "code",
      "source": [
        "#testing the model\r\n",
        "filename = 'outputs/sal_model.pkl'\r\n",
        "loaded_model=joblib.load(filename)\r\n",
        "y=loaded_model.predict([[21]])[0]\r\n",
        "print(y)"
      ],
      "outputs": [
        {
          "output_type": "stream",
          "name": "stdout",
          "text": "141760.56910569107\n"
        }
      ],
      "execution_count": 39,
      "metadata": {
        "jupyter": {
          "source_hidden": false,
          "outputs_hidden": false
        },
        "nteract": {
          "transient": {
            "deleting": false
          }
        },
        "gather": {
          "logged": 1651529452322
        }
      }
    },
    {
      "cell_type": "code",
      "source": [
        "#Log metrics to Azure ML Experiment\r\n",
        "run.log('Intercept :', lm.intercept_)\r\n",
        "run.log('Slope :', lm.coef_[0])"
      ],
      "outputs": [],
      "execution_count": 40,
      "metadata": {
        "jupyter": {
          "source_hidden": false,
          "outputs_hidden": false
        },
        "nteract": {
          "transient": {
            "deleting": false
          }
        },
        "gather": {
          "logged": 1651529460226
        }
      }
    },
    {
      "cell_type": "code",
      "source": [
        "#end the experiment\r\n",
        "run.log(\"Experiment end time\", str(datetime.datetime.now()))\r\n",
        "run.complete()"
      ],
      "outputs": [],
      "execution_count": 41,
      "metadata": {
        "jupyter": {
          "source_hidden": false,
          "outputs_hidden": false
        },
        "nteract": {
          "transient": {
            "deleting": false
          }
        },
        "gather": {
          "logged": 1651529471252
        }
      }
    },
    {
      "cell_type": "code",
      "source": [
        "print(run.get_portal_url())"
      ],
      "outputs": [
        {
          "output_type": "stream",
          "name": "stdout",
          "text": "https://ml.azure.com/runs/06db8b64-fe30-499c-877e-0900490c1c49?wsid=/subscriptions/72d4c1b3-fd6e-432a-b18a-89eec2c10a6b/resourcegroups/pep-gdaentml-cus-01-rg/workspaces/sandbox_ml_service_workspace&tid=42cc3295-cd0e-449c-b98e-5ce5b560c1d3\n"
        }
      ],
      "execution_count": 42,
      "metadata": {
        "jupyter": {
          "source_hidden": false,
          "outputs_hidden": false
        },
        "nteract": {
          "transient": {
            "deleting": false
          }
        },
        "gather": {
          "logged": 1651529471631
        }
      }
    },
    {
      "cell_type": "code",
      "source": [
        "#Register the model\r\n",
        "model = Model.register(model_path = \"outputs/sal_model.pkl\",\r\n",
        "                       model_name = \"sal_model\",\r\n",
        "                       tags = {\"key\": \"1\"},\r\n",
        "                       description = \"Salary Prediction\",\r\n",
        "                       workspace = ws)"
      ],
      "outputs": [
        {
          "output_type": "stream",
          "name": "stdout",
          "text": "Registering model sal_model\n"
        }
      ],
      "execution_count": 43,
      "metadata": {
        "jupyter": {
          "source_hidden": false,
          "outputs_hidden": false
        },
        "nteract": {
          "transient": {
            "deleting": false
          }
        },
        "gather": {
          "logged": 1651529490601
        }
      }
    },
    {
      "cell_type": "code",
      "source": [
        "# Define Azure ML Deploymemt configuration\r\n",
        "aciconfig = AciWebservice.deploy_configuration(cpu_cores=1, \r\n",
        "                                               memory_gb=1, \r\n",
        "                                               tags={\"data\": \"Salary\",  \"method\" : \"sklearn\"}, \r\n",
        "                                               description='Predict Stackoverflow Salary')"
      ],
      "outputs": [],
      "execution_count": 44,
      "metadata": {
        "jupyter": {
          "source_hidden": false,
          "outputs_hidden": false
        },
        "nteract": {
          "transient": {
            "deleting": false
          }
        },
        "gather": {
          "logged": 1651529503953
        }
      }
    },
    {
      "cell_type": "code",
      "source": [
        "# Create enviroment configuration file\r\n",
        "#salenv = CondaDependencies()\r\n",
        "#salenv.add_conda_package(\"scikit-learn\")\r\n",
        "\r\n",
        "#with open(\"salenv.yml\",\"w\") as f:\r\n",
        "#    f.write(salenv.serialize_to_string())\r\n",
        "#with open(\"salenv.yml\",\"r\") as f:\r\n",
        "#    print(f.read())"
      ],
      "outputs": [],
      "execution_count": 45,
      "metadata": {
        "jupyter": {
          "source_hidden": false,
          "outputs_hidden": false
        },
        "nteract": {
          "transient": {
            "deleting": false
          }
        },
        "gather": {
          "logged": 1651529541739
        }
      }
    },
    {
      "cell_type": "code",
      "source": [
        "#cell 18 is not helping so again creating new env\r\n",
        "# create environment for the deploy\r\n",
        "from azureml.core.environment import Environment\r\n",
        "from azureml.core.conda_dependencies import CondaDependencies\r\n",
        "from azureml.core.webservice import AciWebservice\r\n",
        "\r\n",
        "# get a curated environment\r\n",
        "env = Environment.get(\r\n",
        "    workspace=ws, \r\n",
        "    name=\"AzureML-sklearn-0.24-ubuntu18.04-py37-cpu\",\r\n",
        "    version=1\r\n",
        ")\r\n",
        "env.inferencing_stack_version='latest'\r\n",
        "\r\n",
        "# create deployment config i.e. compute resources\r\n",
        "#its created in cell 17\r\n"
      ],
      "outputs": [],
      "execution_count": 46,
      "metadata": {
        "jupyter": {
          "source_hidden": false,
          "outputs_hidden": false
        },
        "nteract": {
          "transient": {
            "deleting": false
          }
        },
        "gather": {
          "logged": 1651529554094
        }
      }
    },
    {
      "cell_type": "markdown",
      "source": [
        "Create Azure ML Scoring file"
      ],
      "metadata": {
        "nteract": {
          "transient": {
            "deleting": false
          }
        }
      }
    },
    {
      "cell_type": "code",
      "source": [
        "\r\n",
        "%%writefile score.py\r\n",
        "import json\r\n",
        "import numpy as np\r\n",
        "import os\r\n",
        "import pickle\r\n",
        "import joblib\r\n",
        "from sklearn.linear_model import LogisticRegression\r\n",
        "\r\n",
        "from azureml.core.model import Model\r\n",
        "\r\n",
        "def init():\r\n",
        "    global model\r\n",
        "    # retrieve the path to the model file using the model name\r\n",
        "    model_path = Model.get_model_path('sal_model')\r\n",
        "    model = joblib.load(model_path)\r\n",
        "\r\n",
        "def run(raw_data):\r\n",
        "    data = np.array(json.loads(raw_data)['data'])\r\n",
        "    # make prediction\r\n",
        "    y_hat = model.predict(data)\r\n",
        "    return json.dumps(y_hat.tolist())"
      ],
      "outputs": [
        {
          "output_type": "stream",
          "name": "stdout",
          "text": "Overwriting score.py\n"
        }
      ],
      "execution_count": 49,
      "metadata": {
        "jupyter": {
          "source_hidden": false,
          "outputs_hidden": false
        },
        "nteract": {
          "transient": {
            "deleting": false
          }
        },
        "gather": {
          "logged": 1651517683451
        }
      }
    },
    {
      "cell_type": "markdown",
      "source": [
        "Deploy the model to Azure Container Instance"
      ],
      "metadata": {
        "nteract": {
          "transient": {
            "deleting": false
          }
        }
      }
    },
    {
      "cell_type": "code",
      "source": [
        "%%time\r\n",
        "#deploying the Model\r\n",
        "import uuid\r\n",
        "from azureml.core.model import InferenceConfig\r\n",
        "from azureml.core.environment import Environment\r\n",
        "from azureml.core.model import Model\r\n",
        "\r\n",
        "# get the registered model\r\n",
        "model = Model(ws, \"sal_model\")\r\n",
        "\r\n",
        "# create an inference config i.e. the scoring script and environment\r\n",
        "inference_config = InferenceConfig(entry_script=\"score.py\", environment=env)\r\n",
        "\r\n",
        "# deploy the service\r\n",
        "service_name = \"sal-model-svc-\" + str(uuid.uuid4())[:4]\r\n",
        "service = Model.deploy(\r\n",
        "    workspace=ws,\r\n",
        "    name=service_name,\r\n",
        "    models=[model],\r\n",
        "    inference_config=inference_config,\r\n",
        "    deployment_config=aciconfig,\r\n",
        ")\r\n",
        "\r\n",
        "service.wait_for_deployment(show_output=True)"
      ],
      "outputs": [
        {
          "output_type": "stream",
          "name": "stdout",
          "text": "Tips: You can try get_logs(): https://aka.ms/debugimage#dockerlog or local deployment: https://aka.ms/debugimage#debug-locally to debug if deployment takes longer than 10 minutes.\nRunning\n2022-05-02 22:20:03+00:00 Creating Container Registry if not exists.\n2022-05-02 22:20:04+00:00 Registering the environment.\n2022-05-02 22:20:04+00:00 Use the existing image.\n2022-05-02 22:20:04+00:00 Generating deployment configuration.\n2022-05-02 22:20:05+00:00 Submitting deployment to compute.\n2022-05-02 22:20:10+00:00 Checking the status of deployment sal-model-svc-28be..\n2022-05-02 22:22:07+00:00 Checking the status of inference endpoint sal-model-svc-28be.\nSucceeded\nACI service creation operation finished, operation \"Succeeded\"\nCPU times: user 879 ms, sys: 163 ms, total: 1.04 s\nWall time: 2min 10s\n"
        }
      ],
      "execution_count": 50,
      "metadata": {
        "jupyter": {
          "source_hidden": false,
          "outputs_hidden": false
        },
        "nteract": {
          "transient": {
            "deleting": false
          }
        }
      }
    },
    {
      "cell_type": "code",
      "source": [
        "#test this from endpoint consume code\r\n",
        "import urllib.request\r\n",
        "import json\r\n",
        "import os\r\n",
        "import ssl\r\n",
        "\r\n",
        "def allowSelfSignedHttps(allowed):\r\n",
        "    # bypass the server certificate verification on client side\r\n",
        "    if allowed and not os.environ.get('PYTHONHTTPSVERIFY', '') and getattr(ssl, '_create_unverified_context', None):\r\n",
        "        ssl._create_default_https_context = ssl._create_unverified_context\r\n",
        "\r\n",
        "allowSelfSignedHttps(True) # this line is needed if you use self-signed certificate in your scoring service.\r\n",
        "\r\n",
        "# Request data goes here\r\n",
        "# The example below assumes JSON formatting which may be updated\r\n",
        "# depending on the format your endpoint expects.\r\n",
        "# More information can be found here:\r\n",
        "# https://docs.microsoft.com/azure/machine-learning/how-to-deploy-advanced-entry-script\r\n",
        "data = {\"data\":[[11]]\r\n",
        "}\r\n",
        "\r\n",
        "body = str.encode(json.dumps(data))\r\n",
        "\r\n",
        "url = 'http://012b3378-15d4-422d-bcc8-574628b4af95.eastus.azurecontainer.io/score'\r\n",
        "api_key = '' # Replace this with the API key for the web service\r\n",
        "headers = {'Content-Type':'application/json', 'Authorization':('Bearer '+ api_key)}\r\n",
        "\r\n",
        "req = urllib.request.Request(url, body, headers)\r\n",
        "\r\n",
        "try:\r\n",
        "    response = urllib.request.urlopen(req)\r\n",
        "\r\n",
        "    result = response.read()\r\n",
        "    print(result)\r\n",
        "except urllib.error.HTTPError as error:\r\n",
        "    print(\"The request failed with status code: \" + str(error.code))\r\n",
        "\r\n",
        "    # Print the headers - they include the requert ID and the timestamp, which are useful for debugging the failure\r\n",
        "    print(error.info())\r\n",
        "    print(error.read().decode(\"utf8\", 'ignore'))\r\n"
      ],
      "outputs": [
        {
          "output_type": "stream",
          "name": "stdout",
          "text": "b'\"[123358.80758807588]\"'\n"
        }
      ],
      "execution_count": 51,
      "metadata": {
        "jupyter": {
          "source_hidden": false,
          "outputs_hidden": false
        },
        "nteract": {
          "transient": {
            "deleting": false
          }
        },
        "gather": {
          "logged": 1651530576168
        }
      }
    }
  ],
  "metadata": {
    "kernelspec": {
      "name": "python38-azureml",
      "language": "python",
      "display_name": "Python 3.8 - AzureML"
    },
    "language_info": {
      "name": "python",
      "version": "3.8.5",
      "mimetype": "text/x-python",
      "codemirror_mode": {
        "name": "ipython",
        "version": 3
      },
      "pygments_lexer": "ipython3",
      "nbconvert_exporter": "python",
      "file_extension": ".py"
    },
    "kernel_info": {
      "name": "python38-azureml"
    },
    "microsoft": {
      "host": {
        "AzureML": {
          "notebookHasBeenCompleted": true
        }
      }
    },
    "nteract": {
      "version": "nteract-front-end@1.0.0"
    }
  },
  "nbformat": 4,
  "nbformat_minor": 2
}